{
 "cells": [
  {
   "cell_type": "markdown",
   "id": "2565601c",
   "metadata": {
    "heading_collapsed": true
   },
   "source": [
    "# 0.0 Imports and directories"
   ]
  },
  {
   "cell_type": "code",
   "execution_count": 2,
   "id": "16b10bed",
   "metadata": {
    "hidden": true
   },
   "outputs": [],
   "source": [
    "import pandas as pd\n",
    "from pandas_profiling import ProfileReport\n",
    "import os"
   ]
  },
  {
   "cell_type": "code",
   "execution_count": 3,
   "id": "7312e845",
   "metadata": {
    "hidden": true
   },
   "outputs": [],
   "source": [
    "BASE_DIR = os.path.dirname(os.path.dirname(os.path.abspath('__file__')))\n",
    "DATA_DIR = os.path.join(BASE_DIR, 'feature_eng', 'data', 'ft_df.csv')"
   ]
  },
  {
   "cell_type": "markdown",
   "id": "3dff265b",
   "metadata": {},
   "source": [
    "# 1.0 EDA"
   ]
  },
  {
   "cell_type": "code",
   "execution_count": 4,
   "id": "44b3b0ef",
   "metadata": {},
   "outputs": [],
   "source": [
    "df = pd.read_csv(DATA_DIR)"
   ]
  },
  {
   "cell_type": "code",
   "execution_count": 7,
   "id": "5ae86c78",
   "metadata": {},
   "outputs": [
    {
     "data": {
      "text/html": [
       "<div>\n",
       "<style scoped>\n",
       "    .dataframe tbody tr th:only-of-type {\n",
       "        vertical-align: middle;\n",
       "    }\n",
       "\n",
       "    .dataframe tbody tr th {\n",
       "        vertical-align: top;\n",
       "    }\n",
       "\n",
       "    .dataframe thead th {\n",
       "        text-align: right;\n",
       "    }\n",
       "</style>\n",
       "<table border=\"1\" class=\"dataframe\">\n",
       "  <thead>\n",
       "    <tr style=\"text-align: right;\">\n",
       "      <th></th>\n",
       "      <th>customer_id</th>\n",
       "      <th>avg_recency_days</th>\n",
       "      <th>avg_basket_size</th>\n",
       "      <th>avg_unique_basket_size</th>\n",
       "      <th>gross_revenue</th>\n",
       "      <th>returned_revenue</th>\n",
       "      <th>last_purchase</th>\n",
       "      <th>orders</th>\n",
       "      <th>qt_products</th>\n",
       "      <th>qt_items</th>\n",
       "      <th>frequency</th>\n",
       "      <th>average_ticket</th>\n",
       "    </tr>\n",
       "  </thead>\n",
       "  <tbody>\n",
       "    <tr>\n",
       "      <th>1017</th>\n",
       "      <td>14646</td>\n",
       "      <td>8.022727</td>\n",
       "      <td>2733.944444</td>\n",
       "      <td>9.708333</td>\n",
       "      <td>279138.02</td>\n",
       "      <td>360.00</td>\n",
       "      <td>1.0</td>\n",
       "      <td>72.0</td>\n",
       "      <td>2060.0</td>\n",
       "      <td>196844.0</td>\n",
       "      <td>0.203390</td>\n",
       "      <td>3876.916944</td>\n",
       "    </tr>\n",
       "    <tr>\n",
       "      <th>492</th>\n",
       "      <td>18102</td>\n",
       "      <td>14.680000</td>\n",
       "      <td>1068.733333</td>\n",
       "      <td>2.500000</td>\n",
       "      <td>259657.30</td>\n",
       "      <td>0.00</td>\n",
       "      <td>0.0</td>\n",
       "      <td>60.0</td>\n",
       "      <td>431.0</td>\n",
       "      <td>64124.0</td>\n",
       "      <td>0.163043</td>\n",
       "      <td>4327.621667</td>\n",
       "    </tr>\n",
       "    <tr>\n",
       "      <th>434</th>\n",
       "      <td>17450</td>\n",
       "      <td>13.807692</td>\n",
       "      <td>1521.586957</td>\n",
       "      <td>2.695652</td>\n",
       "      <td>194550.79</td>\n",
       "      <td>4815.26</td>\n",
       "      <td>8.0</td>\n",
       "      <td>46.0</td>\n",
       "      <td>337.0</td>\n",
       "      <td>69993.0</td>\n",
       "      <td>0.127778</td>\n",
       "      <td>4229.365000</td>\n",
       "    </tr>\n",
       "    <tr>\n",
       "      <th>3338</th>\n",
       "      <td>16446</td>\n",
       "      <td>205.000000</td>\n",
       "      <td>40498.500000</td>\n",
       "      <td>1.500000</td>\n",
       "      <td>168472.50</td>\n",
       "      <td>168469.60</td>\n",
       "      <td>0.0</td>\n",
       "      <td>2.0</td>\n",
       "      <td>3.0</td>\n",
       "      <td>80997.0</td>\n",
       "      <td>0.009709</td>\n",
       "      <td>84236.250000</td>\n",
       "    </tr>\n",
       "    <tr>\n",
       "      <th>66</th>\n",
       "      <td>14911</td>\n",
       "      <td>2.861538</td>\n",
       "      <td>403.331658</td>\n",
       "      <td>8.974874</td>\n",
       "      <td>140450.72</td>\n",
       "      <td>7443.59</td>\n",
       "      <td>1.0</td>\n",
       "      <td>199.0</td>\n",
       "      <td>5673.0</td>\n",
       "      <td>80263.0</td>\n",
       "      <td>0.533512</td>\n",
       "      <td>705.782513</td>\n",
       "    </tr>\n",
       "    <tr>\n",
       "      <th>...</th>\n",
       "      <td>...</td>\n",
       "      <td>...</td>\n",
       "      <td>...</td>\n",
       "      <td>...</td>\n",
       "      <td>...</td>\n",
       "      <td>...</td>\n",
       "      <td>...</td>\n",
       "      <td>...</td>\n",
       "      <td>...</td>\n",
       "      <td>...</td>\n",
       "      <td>...</td>\n",
       "      <td>...</td>\n",
       "    </tr>\n",
       "    <tr>\n",
       "      <th>4958</th>\n",
       "      <td>21975</td>\n",
       "      <td>0.000000</td>\n",
       "      <td>0.000000</td>\n",
       "      <td>0.000000</td>\n",
       "      <td>0.00</td>\n",
       "      <td>49.65</td>\n",
       "      <td>0.0</td>\n",
       "      <td>0.0</td>\n",
       "      <td>0.0</td>\n",
       "      <td>0.0</td>\n",
       "      <td>0.000000</td>\n",
       "      <td>0.000000</td>\n",
       "    </tr>\n",
       "    <tr>\n",
       "      <th>2174</th>\n",
       "      <td>19759</td>\n",
       "      <td>0.000000</td>\n",
       "      <td>0.000000</td>\n",
       "      <td>0.000000</td>\n",
       "      <td>0.00</td>\n",
       "      <td>10.20</td>\n",
       "      <td>0.0</td>\n",
       "      <td>0.0</td>\n",
       "      <td>0.0</td>\n",
       "      <td>0.0</td>\n",
       "      <td>0.000000</td>\n",
       "      <td>0.000000</td>\n",
       "    </tr>\n",
       "    <tr>\n",
       "      <th>5019</th>\n",
       "      <td>22036</td>\n",
       "      <td>0.000000</td>\n",
       "      <td>0.000000</td>\n",
       "      <td>0.000000</td>\n",
       "      <td>0.00</td>\n",
       "      <td>313.86</td>\n",
       "      <td>0.0</td>\n",
       "      <td>0.0</td>\n",
       "      <td>0.0</td>\n",
       "      <td>0.0</td>\n",
       "      <td>0.000000</td>\n",
       "      <td>0.000000</td>\n",
       "    </tr>\n",
       "    <tr>\n",
       "      <th>1726</th>\n",
       "      <td>19590</td>\n",
       "      <td>0.000000</td>\n",
       "      <td>0.000000</td>\n",
       "      <td>0.000000</td>\n",
       "      <td>0.00</td>\n",
       "      <td>46.20</td>\n",
       "      <td>0.0</td>\n",
       "      <td>0.0</td>\n",
       "      <td>0.0</td>\n",
       "      <td>0.0</td>\n",
       "      <td>0.000000</td>\n",
       "      <td>0.000000</td>\n",
       "    </tr>\n",
       "    <tr>\n",
       "      <th>559</th>\n",
       "      <td>12870</td>\n",
       "      <td>0.000000</td>\n",
       "      <td>0.000000</td>\n",
       "      <td>0.000000</td>\n",
       "      <td>0.00</td>\n",
       "      <td>14.90</td>\n",
       "      <td>0.0</td>\n",
       "      <td>0.0</td>\n",
       "      <td>0.0</td>\n",
       "      <td>0.0</td>\n",
       "      <td>0.000000</td>\n",
       "      <td>0.000000</td>\n",
       "    </tr>\n",
       "  </tbody>\n",
       "</table>\n",
       "<p>5787 rows × 12 columns</p>\n",
       "</div>"
      ],
      "text/plain": [
       "      customer_id  avg_recency_days  avg_basket_size  avg_unique_basket_size  \\\n",
       "1017        14646          8.022727      2733.944444                9.708333   \n",
       "492         18102         14.680000      1068.733333                2.500000   \n",
       "434         17450         13.807692      1521.586957                2.695652   \n",
       "3338        16446        205.000000     40498.500000                1.500000   \n",
       "66          14911          2.861538       403.331658                8.974874   \n",
       "...           ...               ...              ...                     ...   \n",
       "4958        21975          0.000000         0.000000                0.000000   \n",
       "2174        19759          0.000000         0.000000                0.000000   \n",
       "5019        22036          0.000000         0.000000                0.000000   \n",
       "1726        19590          0.000000         0.000000                0.000000   \n",
       "559         12870          0.000000         0.000000                0.000000   \n",
       "\n",
       "      gross_revenue  returned_revenue  last_purchase  orders  qt_products  \\\n",
       "1017      279138.02            360.00            1.0    72.0       2060.0   \n",
       "492       259657.30              0.00            0.0    60.0        431.0   \n",
       "434       194550.79           4815.26            8.0    46.0        337.0   \n",
       "3338      168472.50         168469.60            0.0     2.0          3.0   \n",
       "66        140450.72           7443.59            1.0   199.0       5673.0   \n",
       "...             ...               ...            ...     ...          ...   \n",
       "4958           0.00             49.65            0.0     0.0          0.0   \n",
       "2174           0.00             10.20            0.0     0.0          0.0   \n",
       "5019           0.00            313.86            0.0     0.0          0.0   \n",
       "1726           0.00             46.20            0.0     0.0          0.0   \n",
       "559            0.00             14.90            0.0     0.0          0.0   \n",
       "\n",
       "      qt_items  frequency  average_ticket  \n",
       "1017  196844.0   0.203390     3876.916944  \n",
       "492    64124.0   0.163043     4327.621667  \n",
       "434    69993.0   0.127778     4229.365000  \n",
       "3338   80997.0   0.009709    84236.250000  \n",
       "66     80263.0   0.533512      705.782513  \n",
       "...        ...        ...             ...  \n",
       "4958       0.0   0.000000        0.000000  \n",
       "2174       0.0   0.000000        0.000000  \n",
       "5019       0.0   0.000000        0.000000  \n",
       "1726       0.0   0.000000        0.000000  \n",
       "559        0.0   0.000000        0.000000  \n",
       "\n",
       "[5787 rows x 12 columns]"
      ]
     },
     "execution_count": 7,
     "metadata": {},
     "output_type": "execute_result"
    }
   ],
   "source": [
    "df.sort_values('gross_revenue', ascending = False)"
   ]
  },
  {
   "cell_type": "markdown",
   "id": "6d3ec782",
   "metadata": {},
   "source": [
    "## 1.1 Univariate Analysis"
   ]
  },
  {
   "cell_type": "code",
   "execution_count": 6,
   "id": "08acd13f",
   "metadata": {},
   "outputs": [
    {
     "data": {
      "application/vnd.jupyter.widget-view+json": {
       "model_id": "fc8d4cfc2a7e43f8b78e70f274710aca",
       "version_major": 2,
       "version_minor": 0
      },
      "text/plain": [
       "Summarize dataset:   0%|          | 0/25 [00:00<?, ?it/s]"
      ]
     },
     "metadata": {},
     "output_type": "display_data"
    },
    {
     "data": {
      "application/vnd.jupyter.widget-view+json": {
       "model_id": "d8c384b2e13c4bef969267afd2fe7de0",
       "version_major": 2,
       "version_minor": 0
      },
      "text/plain": [
       "Generate report structure:   0%|          | 0/1 [00:00<?, ?it/s]"
      ]
     },
     "metadata": {},
     "output_type": "display_data"
    },
    {
     "data": {
      "application/vnd.jupyter.widget-view+json": {
       "model_id": "f81d0d1ac3ce4217bbcac2305de5b94f",
       "version_major": 2,
       "version_minor": 0
      },
      "text/plain": [
       "Render HTML:   0%|          | 0/1 [00:00<?, ?it/s]"
      ]
     },
     "metadata": {},
     "output_type": "display_data"
    },
    {
     "data": {
      "application/vnd.jupyter.widget-view+json": {
       "model_id": "33599ad783c94113aa7937f45f7b5202",
       "version_major": 2,
       "version_minor": 0
      },
      "text/plain": [
       "Export report to file:   0%|          | 0/1 [00:00<?, ?it/s]"
      ]
     },
     "metadata": {},
     "output_type": "display_data"
    }
   ],
   "source": [
    "profile = ProfileReport(df)\n",
    "profile.to_file('output.html')"
   ]
  },
  {
   "cell_type": "markdown",
   "id": "d6e16eda",
   "metadata": {},
   "source": [
    "## 1.2 Bivariate Analysis"
   ]
  },
  {
   "cell_type": "code",
   "execution_count": null,
   "id": "7d92cd6e",
   "metadata": {},
   "outputs": [],
   "source": []
  }
 ],
 "metadata": {
  "kernelspec": {
   "display_name": "all-one-env",
   "language": "python",
   "name": "all-one"
  },
  "language_info": {
   "codemirror_mode": {
    "name": "ipython",
    "version": 3
   },
   "file_extension": ".py",
   "mimetype": "text/x-python",
   "name": "python",
   "nbconvert_exporter": "python",
   "pygments_lexer": "ipython3",
   "version": "3.9.6"
  }
 },
 "nbformat": 4,
 "nbformat_minor": 5
}
