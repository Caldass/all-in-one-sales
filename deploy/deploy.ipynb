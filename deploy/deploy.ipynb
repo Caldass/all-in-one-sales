{
 "cells": [
  {
   "cell_type": "markdown",
   "id": "496c6cf5",
   "metadata": {},
   "source": [
    "# 0.0 Imports and directories"
   ]
  },
  {
   "cell_type": "code",
   "execution_count": 1,
   "id": "01c594b8",
   "metadata": {},
   "outputs": [],
   "source": [
    "import MySQLdb                     \n",
    "from sqlalchemy import create_engine\n",
    "\n",
    "import pandas as pd\n",
    "import numpy as np\n",
    "\n",
    "import os\n",
    "import s3fs\n",
    "\n",
    "import pickle\n",
    "\n",
    "import seaborn as sns\n",
    "import matplotlib.pyplot as plt\n",
    "from matplotlib import cm\n",
    "\n",
    "from sklearn.preprocessing import MinMaxScaler\n",
    "from sklearn.ensemble import RandomForestRegressor\n",
    "from sklearn.cluster import KMeans\n",
    "from sklearn import metrics\n",
    "\n",
    "import umap.umap_ as umap\n"
   ]
  },
  {
   "cell_type": "code",
   "execution_count": 2,
   "id": "c11380a5",
   "metadata": {},
   "outputs": [],
   "source": [
    "BASE_DIR = os.path.dirname(os.path.dirname(os.path.abspath('__file__')))\n",
    "DATA_DIR = os.path.join(BASE_DIR, 'feature_eng', 'data')"
   ]
  },
  {
   "cell_type": "markdown",
   "id": "b5bbf85f",
   "metadata": {},
   "source": [
    "# 1.0 EDA"
   ]
  },
  {
   "cell_type": "code",
   "execution_count": 3,
   "id": "3a3ce293",
   "metadata": {},
   "outputs": [],
   "source": [
    "df = pd.read_csv('s3://insiders-db/ft_df.csv')"
   ]
  },
  {
   "cell_type": "markdown",
   "id": "080c53b9",
   "metadata": {},
   "source": [
    "## 1.1 Space study"
   ]
  },
  {
   "cell_type": "code",
   "execution_count": 4,
   "id": "197b9f98",
   "metadata": {},
   "outputs": [],
   "source": [
    "cols_selected = ['gross_revenue', 'last_purchase', 'avg_recency_days','qt_products', 'qt_returns']\n",
    "df = df[ ['customer_id'] + cols_selected ].dropna()"
   ]
  },
  {
   "cell_type": "code",
   "execution_count": 5,
   "id": "a15550c2",
   "metadata": {},
   "outputs": [
    {
     "data": {
      "text/plain": [
       "(2968, 6)"
      ]
     },
     "execution_count": 5,
     "metadata": {},
     "output_type": "execute_result"
    }
   ],
   "source": [
    "df.shape"
   ]
  },
  {
   "cell_type": "markdown",
   "id": "b9a82c8e",
   "metadata": {},
   "source": [
    "### 1.2 Tree-based Embedding"
   ]
  },
  {
   "cell_type": "code",
   "execution_count": 6,
   "id": "fe13b77c",
   "metadata": {},
   "outputs": [],
   "source": [
    "X = df[cols_selected].drop(columns = ['gross_revenue'])\n",
    "y = df.gross_revenue"
   ]
  },
  {
   "cell_type": "code",
   "execution_count": 7,
   "id": "5ee3730b",
   "metadata": {},
   "outputs": [],
   "source": [
    "# model definition\n",
    "rf = pickle.load(open('s3://insiders-db/rf_model.pkl', 'rb'))\n",
    "\n",
    "# Leaf df\n",
    "df_leaf = pd.DataFrame(rf.apply(X))\n"
   ]
  },
  {
   "cell_type": "code",
   "execution_count": 8,
   "id": "44d18933",
   "metadata": {
    "scrolled": true
   },
   "outputs": [
    {
     "data": {
      "text/html": [
       "<div>\n",
       "<style scoped>\n",
       "    .dataframe tbody tr th:only-of-type {\n",
       "        vertical-align: middle;\n",
       "    }\n",
       "\n",
       "    .dataframe tbody tr th {\n",
       "        vertical-align: top;\n",
       "    }\n",
       "\n",
       "    .dataframe thead th {\n",
       "        text-align: right;\n",
       "    }\n",
       "</style>\n",
       "<table border=\"1\" class=\"dataframe\">\n",
       "  <thead>\n",
       "    <tr style=\"text-align: right;\">\n",
       "      <th></th>\n",
       "      <th>0</th>\n",
       "      <th>1</th>\n",
       "      <th>2</th>\n",
       "      <th>3</th>\n",
       "      <th>4</th>\n",
       "      <th>5</th>\n",
       "      <th>6</th>\n",
       "      <th>7</th>\n",
       "      <th>8</th>\n",
       "      <th>9</th>\n",
       "      <th>...</th>\n",
       "      <th>90</th>\n",
       "      <th>91</th>\n",
       "      <th>92</th>\n",
       "      <th>93</th>\n",
       "      <th>94</th>\n",
       "      <th>95</th>\n",
       "      <th>96</th>\n",
       "      <th>97</th>\n",
       "      <th>98</th>\n",
       "      <th>99</th>\n",
       "    </tr>\n",
       "  </thead>\n",
       "  <tbody>\n",
       "    <tr>\n",
       "      <th>0</th>\n",
       "      <td>3401</td>\n",
       "      <td>2831</td>\n",
       "      <td>3726</td>\n",
       "      <td>3640</td>\n",
       "      <td>3582</td>\n",
       "      <td>3696</td>\n",
       "      <td>3572</td>\n",
       "      <td>3621</td>\n",
       "      <td>3664</td>\n",
       "      <td>3480</td>\n",
       "      <td>...</td>\n",
       "      <td>3404</td>\n",
       "      <td>3326</td>\n",
       "      <td>3374</td>\n",
       "      <td>3641</td>\n",
       "      <td>3575</td>\n",
       "      <td>3673</td>\n",
       "      <td>3675</td>\n",
       "      <td>3413</td>\n",
       "      <td>3581</td>\n",
       "      <td>3627</td>\n",
       "    </tr>\n",
       "    <tr>\n",
       "      <th>1</th>\n",
       "      <td>3282</td>\n",
       "      <td>2770</td>\n",
       "      <td>3688</td>\n",
       "      <td>2436</td>\n",
       "      <td>2504</td>\n",
       "      <td>2567</td>\n",
       "      <td>2681</td>\n",
       "      <td>3598</td>\n",
       "      <td>2769</td>\n",
       "      <td>3450</td>\n",
       "      <td>...</td>\n",
       "      <td>2439</td>\n",
       "      <td>3258</td>\n",
       "      <td>2322</td>\n",
       "      <td>2221</td>\n",
       "      <td>3389</td>\n",
       "      <td>2460</td>\n",
       "      <td>2784</td>\n",
       "      <td>3329</td>\n",
       "      <td>2606</td>\n",
       "      <td>3525</td>\n",
       "    </tr>\n",
       "    <tr>\n",
       "      <th>2</th>\n",
       "      <td>3490</td>\n",
       "      <td>2360</td>\n",
       "      <td>3697</td>\n",
       "      <td>3625</td>\n",
       "      <td>3573</td>\n",
       "      <td>3671</td>\n",
       "      <td>2761</td>\n",
       "      <td>3562</td>\n",
       "      <td>2728</td>\n",
       "      <td>3097</td>\n",
       "      <td>...</td>\n",
       "      <td>3369</td>\n",
       "      <td>3318</td>\n",
       "      <td>3492</td>\n",
       "      <td>3581</td>\n",
       "      <td>3505</td>\n",
       "      <td>3617</td>\n",
       "      <td>2632</td>\n",
       "      <td>3369</td>\n",
       "      <td>3572</td>\n",
       "      <td>3591</td>\n",
       "    </tr>\n",
       "    <tr>\n",
       "      <th>3</th>\n",
       "      <td>1225</td>\n",
       "      <td>824</td>\n",
       "      <td>907</td>\n",
       "      <td>370</td>\n",
       "      <td>888</td>\n",
       "      <td>506</td>\n",
       "      <td>659</td>\n",
       "      <td>1105</td>\n",
       "      <td>1884</td>\n",
       "      <td>1601</td>\n",
       "      <td>...</td>\n",
       "      <td>1205</td>\n",
       "      <td>1672</td>\n",
       "      <td>810</td>\n",
       "      <td>801</td>\n",
       "      <td>1615</td>\n",
       "      <td>1880</td>\n",
       "      <td>901</td>\n",
       "      <td>1166</td>\n",
       "      <td>961</td>\n",
       "      <td>920</td>\n",
       "    </tr>\n",
       "    <tr>\n",
       "      <th>4</th>\n",
       "      <td>481</td>\n",
       "      <td>416</td>\n",
       "      <td>411</td>\n",
       "      <td>894</td>\n",
       "      <td>917</td>\n",
       "      <td>803</td>\n",
       "      <td>1284</td>\n",
       "      <td>463</td>\n",
       "      <td>641</td>\n",
       "      <td>734</td>\n",
       "      <td>...</td>\n",
       "      <td>97</td>\n",
       "      <td>645</td>\n",
       "      <td>877</td>\n",
       "      <td>552</td>\n",
       "      <td>766</td>\n",
       "      <td>583</td>\n",
       "      <td>100</td>\n",
       "      <td>141</td>\n",
       "      <td>1316</td>\n",
       "      <td>26</td>\n",
       "    </tr>\n",
       "  </tbody>\n",
       "</table>\n",
       "<p>5 rows × 100 columns</p>\n",
       "</div>"
      ],
      "text/plain": [
       "     0     1     2     3     4     5     6     7     8     9   ...    90  \\\n",
       "0  3401  2831  3726  3640  3582  3696  3572  3621  3664  3480  ...  3404   \n",
       "1  3282  2770  3688  2436  2504  2567  2681  3598  2769  3450  ...  2439   \n",
       "2  3490  2360  3697  3625  3573  3671  2761  3562  2728  3097  ...  3369   \n",
       "3  1225   824   907   370   888   506   659  1105  1884  1601  ...  1205   \n",
       "4   481   416   411   894   917   803  1284   463   641   734  ...    97   \n",
       "\n",
       "     91    92    93    94    95    96    97    98    99  \n",
       "0  3326  3374  3641  3575  3673  3675  3413  3581  3627  \n",
       "1  3258  2322  2221  3389  2460  2784  3329  2606  3525  \n",
       "2  3318  3492  3581  3505  3617  2632  3369  3572  3591  \n",
       "3  1672   810   801  1615  1880   901  1166   961   920  \n",
       "4   645   877   552   766   583   100   141  1316    26  \n",
       "\n",
       "[5 rows x 100 columns]"
      ]
     },
     "execution_count": 8,
     "metadata": {},
     "output_type": "execute_result"
    }
   ],
   "source": [
    "df_leaf.head()"
   ]
  },
  {
   "cell_type": "code",
   "execution_count": 9,
   "id": "30986d61",
   "metadata": {},
   "outputs": [],
   "source": [
    "# Reduce dimensionality\n",
    "reducer = pickle.load(open('s3://insiders-db/umap.pkl', 'rb'))"
   ]
  },
  {
   "cell_type": "code",
   "execution_count": 10,
   "id": "e7151c01",
   "metadata": {
    "scrolled": true
   },
   "outputs": [
    {
     "data": {
      "text/plain": [
       "<AxesSubplot:xlabel='embedding_x', ylabel='embedding_y'>"
      ]
     },
     "execution_count": 10,
     "metadata": {},
     "output_type": "execute_result"
    },
    {
     "data": {
      "image/png": "[encoded data removed]",
      "text/plain": [
       "<Figure size 432x288 with 1 Axes>"
      ]
     },
     "metadata": {
      "needs_background": "light"
     },
     "output_type": "display_data"
    }
   ],
   "source": [
    "# Reduce dimensionality\n",
    "embedding = reducer.transform( df_leaf )\n",
    "\n",
    "# embedding\n",
    "df_tree = pd.DataFrame()\n",
    "df_tree['embedding_x'] = embedding[:, 0]\n",
    "df_tree['embedding_y'] = embedding[:, 1]\n",
    "\n",
    "# plot UMAP\n",
    "sns.scatterplot( x='embedding_x', \n",
    "                 y='embedding_y', \n",
    "                 data=df_tree )"
   ]
  },
  {
   "cell_type": "markdown",
   "id": "853d59cd",
   "metadata": {},
   "source": [
    "# 2.0 Model Training"
   ]
  },
  {
   "cell_type": "code",
   "execution_count": 11,
   "id": "b37567dd",
   "metadata": {},
   "outputs": [],
   "source": [
    "k = 8\n",
    "\n",
    "X = df_tree.copy()\n",
    "\n",
    "## model definition\n",
    "gm = KMeans( n_clusters = k, random_state = 42 ) \n",
    "\n",
    "# model training\n",
    "gm.fit( X )\n",
    "\n",
    "# model predict\n",
    "labels = gm.predict(  X )\n"
   ]
  },
  {
   "cell_type": "code",
   "execution_count": 12,
   "id": "75795698",
   "metadata": {},
   "outputs": [
    {
     "name": "stdout",
     "output_type": "stream",
     "text": [
      "SS value: 0.6290104985237122\n"
     ]
    }
   ],
   "source": [
    "## SS ( Silhouette Score )\n",
    "print( f'''SS value: {metrics.silhouette_score( X, labels, metric='euclidean') }''')"
   ]
  },
  {
   "cell_type": "markdown",
   "id": "45406c26",
   "metadata": {},
   "source": [
    "# 3.0 Cluster Profile"
   ]
  },
  {
   "cell_type": "code",
   "execution_count": 13,
   "id": "033d8a25",
   "metadata": {},
   "outputs": [
    {
     "data": {
      "text/html": [
       "<div>\n",
       "<style scoped>\n",
       "    .dataframe tbody tr th:only-of-type {\n",
       "        vertical-align: middle;\n",
       "    }\n",
       "\n",
       "    .dataframe tbody tr th {\n",
       "        vertical-align: top;\n",
       "    }\n",
       "\n",
       "    .dataframe thead th {\n",
       "        text-align: right;\n",
       "    }\n",
       "</style>\n",
       "<table border=\"1\" class=\"dataframe\">\n",
       "  <thead>\n",
       "    <tr style=\"text-align: right;\">\n",
       "      <th></th>\n",
       "      <th>customer_id</th>\n",
       "      <th>gross_revenue</th>\n",
       "      <th>last_purchase</th>\n",
       "      <th>avg_recency_days</th>\n",
       "      <th>qt_products</th>\n",
       "      <th>qt_returns</th>\n",
       "      <th>cluster</th>\n",
       "    </tr>\n",
       "  </thead>\n",
       "  <tbody>\n",
       "    <tr>\n",
       "      <th>0</th>\n",
       "      <td>17850</td>\n",
       "      <td>5391.21</td>\n",
       "      <td>372.0</td>\n",
       "      <td>35.500000</td>\n",
       "      <td>297.0</td>\n",
       "      <td>40.0</td>\n",
       "      <td>4</td>\n",
       "    </tr>\n",
       "    <tr>\n",
       "      <th>1</th>\n",
       "      <td>13047</td>\n",
       "      <td>3232.59</td>\n",
       "      <td>56.0</td>\n",
       "      <td>27.250000</td>\n",
       "      <td>171.0</td>\n",
       "      <td>35.0</td>\n",
       "      <td>7</td>\n",
       "    </tr>\n",
       "    <tr>\n",
       "      <th>2</th>\n",
       "      <td>12583</td>\n",
       "      <td>6705.38</td>\n",
       "      <td>2.0</td>\n",
       "      <td>23.187500</td>\n",
       "      <td>232.0</td>\n",
       "      <td>50.0</td>\n",
       "      <td>4</td>\n",
       "    </tr>\n",
       "    <tr>\n",
       "      <th>3</th>\n",
       "      <td>13748</td>\n",
       "      <td>948.25</td>\n",
       "      <td>95.0</td>\n",
       "      <td>92.666667</td>\n",
       "      <td>28.0</td>\n",
       "      <td>0.0</td>\n",
       "      <td>3</td>\n",
       "    </tr>\n",
       "    <tr>\n",
       "      <th>4</th>\n",
       "      <td>15100</td>\n",
       "      <td>876.00</td>\n",
       "      <td>333.0</td>\n",
       "      <td>8.600000</td>\n",
       "      <td>3.0</td>\n",
       "      <td>22.0</td>\n",
       "      <td>3</td>\n",
       "    </tr>\n",
       "  </tbody>\n",
       "</table>\n",
       "</div>"
      ],
      "text/plain": [
       "   customer_id  gross_revenue  last_purchase  avg_recency_days  qt_products  \\\n",
       "0        17850        5391.21          372.0         35.500000        297.0   \n",
       "1        13047        3232.59           56.0         27.250000        171.0   \n",
       "2        12583        6705.38            2.0         23.187500        232.0   \n",
       "3        13748         948.25           95.0         92.666667         28.0   \n",
       "4        15100         876.00          333.0          8.600000          3.0   \n",
       "\n",
       "   qt_returns  cluster  \n",
       "0        40.0        4  \n",
       "1        35.0        7  \n",
       "2        50.0        4  \n",
       "3         0.0        3  \n",
       "4        22.0        3  "
      ]
     },
     "execution_count": 13,
     "metadata": {},
     "output_type": "execute_result"
    }
   ],
   "source": [
    "df = df[ ['customer_id'] + cols_selected].copy()\n",
    "df['cluster'] = labels\n",
    "df.head()"
   ]
  },
  {
   "cell_type": "markdown",
   "id": "96802abf",
   "metadata": {},
   "source": [
    "# 4.0 Deploy"
   ]
  },
  {
   "cell_type": "code",
   "execution_count": 14,
   "id": "7ff8f1fe",
   "metadata": {},
   "outputs": [
    {
     "data": {
      "text/plain": [
       "customer_id           int64\n",
       "gross_revenue       float64\n",
       "last_purchase         int32\n",
       "avg_recency_days    float64\n",
       "qt_products           int32\n",
       "qt_returns            int32\n",
       "cluster               int32\n",
       "dtype: object"
      ]
     },
     "execution_count": 14,
     "metadata": {},
     "output_type": "execute_result"
    }
   ],
   "source": [
    "# changing dtypes\n",
    "\n",
    "to_int = ['qt_products', 'qt_returns', 'last_purchase']\n",
    "\n",
    "for col in to_int:\n",
    "    df[col] = df[col].astype(int)\n",
    "\n",
    "df.dtypes"
   ]
  },
  {
   "cell_type": "code",
   "execution_count": 27,
   "id": "8196152e",
   "metadata": {},
   "outputs": [
    {
     "data": {
      "text/plain": [
       "<sqlalchemy.engine.cursor.LegacyCursorResult at 0x258ec59c100>"
      ]
     },
     "execution_count": 27,
     "metadata": {},
     "output_type": "execute_result"
    }
   ],
   "source": [
    "# create table\n",
    "tb_insiders =  '''\n",
    "\n",
    "CREATE TABLE insiders \n",
    "\n",
    "(\n",
    "customer_id         INTEGER,\n",
    "gross_revenue       REAL,\n",
    "last_purchase       INTEGER,\n",
    "avg_recency_days    REAL, \n",
    "qt_products         INTEGER,\n",
    "qt_returns          INTEGER,\n",
    "cluster             INTEGER\n",
    ")\n",
    "'''\n",
    "\n",
    "\n",
    "host ='insiders-db.ch0jsb1xo6iu.us-east-2.rds.amazonaws.com'\n",
    "port = '3306'\n",
    "db = 'insidersdb'\n",
    "user = 'admin'\n",
    "pwd = 'insiders123'\n",
    "\n",
    "conn = create_engine(f'mysql://{user}:{pwd}@{host}:{port}/{db}')\n",
    "\n",
    "conn.execute(tb_insiders)\n",
    "# conn.commit()\n",
    "# conn.close()\n",
    "\n",
    "\n",
    "# # insert data\n",
    "df.to_sql('insiders', con = conn, if_exists = 'append', index = False)"
   ]
  },
  {
   "cell_type": "code",
   "execution_count": 28,
   "id": "76c45ceb",
   "metadata": {},
   "outputs": [],
   "source": [
    "df.to_sql('insiders', con = conn, if_exists = 'append', index = False)\n",
    "conn.close()"
   ]
  }
 ],
 "metadata": {
  "kernelspec": {
   "display_name": "Python 3 (ipykernel)",
   "language": "python",
   "name": "python3"
  },
  "language_info": {
   "codemirror_mode": {
    "name": "ipython",
    "version": 3
   },
   "file_extension": ".py",
   "mimetype": "text/x-python",
   "name": "python",
   "nbconvert_exporter": "python",
   "pygments_lexer": "ipython3",
   "version": "3.8.12"
  },
  "varInspector": {
   "cols": {
    "lenName": 16,
    "lenType": 16,
    "lenVar": 40
   },
   "kernels_config": {
    "python": {
     "delete_cmd_postfix": "",
     "delete_cmd_prefix": "del ",
     "library": "var_list.py",
     "varRefreshCmd": "print(var_dic_list())"
    },
    "r": {
     "delete_cmd_postfix": ") ",
     "delete_cmd_prefix": "rm(",
     "library": "var_list.r",
     "varRefreshCmd": "cat(var_dic_list()) "
    }
   },
   "types_to_exclude": [
    "module",
    "function",
    "builtin_function_or_method",
    "instance",
    "_Feature"
   ],
   "window_display": false
  }
 },
 "nbformat": 4,
 "nbformat_minor": 5
}
